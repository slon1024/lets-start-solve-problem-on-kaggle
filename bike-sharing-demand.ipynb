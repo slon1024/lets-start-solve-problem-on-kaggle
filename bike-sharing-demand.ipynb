{
 "cells": [
  {
   "cell_type": "markdown",
   "metadata": {},
   "source": [
    "#Goal: understand better data and improve a model\n",
    "\n",
    "Already we have a plan how evaluate, let's focus on our data and building more advanced models."
   ]
  },
  {
   "cell_type": "code",
   "execution_count": 84,
   "metadata": {
    "collapsed": true
   },
   "outputs": [],
   "source": [
    "import pandas as pd\n",
    "import numpy as np\n",
    "import matplotlib.pyplot as plt\n",
    "import seaborn as sns\n",
    "from random import shuffle\n",
    "\n",
    "%matplotlib inline"
   ]
  },
  {
   "cell_type": "code",
   "execution_count": 85,
   "metadata": {
    "collapsed": true
   },
   "outputs": [],
   "source": [
    "from sklearn.base import BaseEstimator, ClassifierMixin\n",
    "\n",
    "from sklearn.linear_model import LinearRegression, Lasso, ElasticNet, BayesianRidge, ARDRegression\n",
    "from sklearn.ensemble import ExtraTreesRegressor, RandomForestRegressor, AdaBoostRegressor, BaggingRegressor, GradientBoostingRegressor\n",
    "from sklearn.tree import DecisionTreeRegressor\n",
    "\n",
    "from sklearn.metrics import make_scorer        \n",
    "from sklearn.grid_search import ParameterGrid"
   ]
  },
  {
   "cell_type": "markdown",
   "metadata": {},
   "source": [
    "# 1. Understand Data\n",
    "\n",
    "1. Read data & base information\n",
    "2. Distributions\n",
    "3. Target variable\n",
    "4. Corellation matrix"
   ]
  },
  {
   "cell_type": "markdown",
   "metadata": {},
   "source": [
    "## 1.1 Read data & base information"
   ]
  },
  {
   "cell_type": "code",
   "execution_count": 4,
   "metadata": {
    "collapsed": false
   },
   "outputs": [
    {
     "data": {
      "text/html": [
       "<div>\n",
       "<table border=\"1\" class=\"dataframe\">\n",
       "  <thead>\n",
       "    <tr style=\"text-align: right;\">\n",
       "      <th></th>\n",
       "      <th>datetime</th>\n",
       "      <th>season</th>\n",
       "      <th>holiday</th>\n",
       "      <th>workingday</th>\n",
       "      <th>weather</th>\n",
       "      <th>temp</th>\n",
       "      <th>atemp</th>\n",
       "      <th>humidity</th>\n",
       "      <th>windspeed</th>\n",
       "      <th>casual</th>\n",
       "      <th>registered</th>\n",
       "      <th>count</th>\n",
       "    </tr>\n",
       "  </thead>\n",
       "  <tbody>\n",
       "    <tr>\n",
       "      <th>0</th>\n",
       "      <td>2011-01-01 00:00:00</td>\n",
       "      <td>1</td>\n",
       "      <td>0</td>\n",
       "      <td>0</td>\n",
       "      <td>1</td>\n",
       "      <td>9.84</td>\n",
       "      <td>14.395</td>\n",
       "      <td>81</td>\n",
       "      <td>0</td>\n",
       "      <td>3</td>\n",
       "      <td>13</td>\n",
       "      <td>16</td>\n",
       "    </tr>\n",
       "    <tr>\n",
       "      <th>1</th>\n",
       "      <td>2011-01-01 01:00:00</td>\n",
       "      <td>1</td>\n",
       "      <td>0</td>\n",
       "      <td>0</td>\n",
       "      <td>1</td>\n",
       "      <td>9.02</td>\n",
       "      <td>13.635</td>\n",
       "      <td>80</td>\n",
       "      <td>0</td>\n",
       "      <td>8</td>\n",
       "      <td>32</td>\n",
       "      <td>40</td>\n",
       "    </tr>\n",
       "    <tr>\n",
       "      <th>2</th>\n",
       "      <td>2011-01-01 02:00:00</td>\n",
       "      <td>1</td>\n",
       "      <td>0</td>\n",
       "      <td>0</td>\n",
       "      <td>1</td>\n",
       "      <td>9.02</td>\n",
       "      <td>13.635</td>\n",
       "      <td>80</td>\n",
       "      <td>0</td>\n",
       "      <td>5</td>\n",
       "      <td>27</td>\n",
       "      <td>32</td>\n",
       "    </tr>\n",
       "    <tr>\n",
       "      <th>3</th>\n",
       "      <td>2011-01-01 03:00:00</td>\n",
       "      <td>1</td>\n",
       "      <td>0</td>\n",
       "      <td>0</td>\n",
       "      <td>1</td>\n",
       "      <td>9.84</td>\n",
       "      <td>14.395</td>\n",
       "      <td>75</td>\n",
       "      <td>0</td>\n",
       "      <td>3</td>\n",
       "      <td>10</td>\n",
       "      <td>13</td>\n",
       "    </tr>\n",
       "    <tr>\n",
       "      <th>4</th>\n",
       "      <td>2011-01-01 04:00:00</td>\n",
       "      <td>1</td>\n",
       "      <td>0</td>\n",
       "      <td>0</td>\n",
       "      <td>1</td>\n",
       "      <td>9.84</td>\n",
       "      <td>14.395</td>\n",
       "      <td>75</td>\n",
       "      <td>0</td>\n",
       "      <td>0</td>\n",
       "      <td>1</td>\n",
       "      <td>1</td>\n",
       "    </tr>\n",
       "  </tbody>\n",
       "</table>\n",
       "</div>"
      ],
      "text/plain": [
       "              datetime  season  holiday  workingday  weather  temp   atemp  \\\n",
       "0  2011-01-01 00:00:00       1        0           0        1  9.84  14.395   \n",
       "1  2011-01-01 01:00:00       1        0           0        1  9.02  13.635   \n",
       "2  2011-01-01 02:00:00       1        0           0        1  9.02  13.635   \n",
       "3  2011-01-01 03:00:00       1        0           0        1  9.84  14.395   \n",
       "4  2011-01-01 04:00:00       1        0           0        1  9.84  14.395   \n",
       "\n",
       "   humidity  windspeed  casual  registered  count  \n",
       "0        81          0       3          13     16  \n",
       "1        80          0       8          32     40  \n",
       "2        80          0       5          27     32  \n",
       "3        75          0       3          10     13  \n",
       "4        75          0       0           1      1  "
      ]
     },
     "execution_count": 4,
     "metadata": {},
     "output_type": "execute_result"
    }
   ],
   "source": [
    "train = pd.read_csv('train.csv')\n",
    "train.head()"
   ]
  },
  {
   "cell_type": "code",
   "execution_count": 51,
   "metadata": {
    "collapsed": false
   },
   "outputs": [
    {
     "name": "stdout",
     "output_type": "stream",
     "text": [
      "<class 'pandas.core.frame.DataFrame'>\n",
      "Int64Index: 10886 entries, 0 to 10885\n",
      "Data columns (total 14 columns):\n",
      "datetime      10886 non-null datetime64[ns]\n",
      "season        10886 non-null int64\n",
      "holiday       10886 non-null int64\n",
      "workingday    10886 non-null int64\n",
      "weather       10886 non-null int64\n",
      "temp          10886 non-null float64\n",
      "atemp         10886 non-null float64\n",
      "humidity      10886 non-null int64\n",
      "windspeed     10886 non-null float64\n",
      "casual        10886 non-null int64\n",
      "registered    10886 non-null int64\n",
      "count         10886 non-null int64\n",
      "day           10886 non-null int64\n",
      "is_test       10886 non-null bool\n",
      "dtypes: bool(1), datetime64[ns](1), float64(3), int64(9)\n",
      "memory usage: 1.2 MB\n"
     ]
    }
   ],
   "source": [
    "train.info()"
   ]
  },
  {
   "cell_type": "markdown",
   "metadata": {},
   "source": [
    "1. We have **10 886** observations and **12** features.\n",
    "2. We don't have missing value.\n",
    "3. Most value is integer, few of them float and object (should be a date)."
   ]
  },
  {
   "cell_type": "markdown",
   "metadata": {},
   "source": [
    "1. **datetime** - hourly date + timestamp  \n",
    "2. **season** -  1 = spring, 2 = summer, 3 = fall, 4 = winter \n",
    "3. **holiday** - whether the day is considered a holiday\n",
    "4. **workingday** - whether the day is neither a weekend nor holiday\n",
    "5. **weather** - \n",
    "    1: Clear, Few clouds, Partly cloudy, Partly cloudy \n",
    "    2: Mist + Cloudy, Mist + Broken clouds, Mist + Few clouds, Mist\n",
    "    3: Light Snow, Light Rain + Thunderstorm + Scattered clouds, Light Rain + Scattered clouds\n",
    "    4: Heavy Rain + Ice Pallets + Thunderstorm + Mist, Snow + Fog \n",
    "6. **temp** - temperature in Celsius\n",
    "7. **atemp** - \"feels like\" temperature in Celsius\n",
    "8. **humidity** - relative humidity\n",
    "9. **windspeed** - wind speed\n",
    "10. **casual** - number of non-registered user rentals initiated\n",
    "11. **registered** - number of registered user rentals initiated\n",
    "12. **count** - number of total rentals"
   ]
  },
  {
   "cell_type": "markdown",
   "metadata": {},
   "source": [
    "### Check [Five-number summary](https://en.wikipedia.org/wiki/Five-number_summary)"
   ]
  },
  {
   "cell_type": "code",
   "execution_count": 53,
   "metadata": {
    "collapsed": false
   },
   "outputs": [
    {
     "data": {
      "text/html": [
       "<div>\n",
       "<table border=\"1\" class=\"dataframe\">\n",
       "  <thead>\n",
       "    <tr style=\"text-align: right;\">\n",
       "      <th></th>\n",
       "      <th>season</th>\n",
       "      <th>holiday</th>\n",
       "      <th>workingday</th>\n",
       "      <th>weather</th>\n",
       "      <th>temp</th>\n",
       "      <th>atemp</th>\n",
       "      <th>humidity</th>\n",
       "      <th>windspeed</th>\n",
       "      <th>casual</th>\n",
       "      <th>registered</th>\n",
       "      <th>count</th>\n",
       "      <th>day</th>\n",
       "      <th>is_test</th>\n",
       "    </tr>\n",
       "  </thead>\n",
       "  <tbody>\n",
       "    <tr>\n",
       "      <th>count</th>\n",
       "      <td>10886.000000</td>\n",
       "      <td>10886.000000</td>\n",
       "      <td>10886.000000</td>\n",
       "      <td>10886.000000</td>\n",
       "      <td>10886.00000</td>\n",
       "      <td>10886.000000</td>\n",
       "      <td>10886.000000</td>\n",
       "      <td>10886.000000</td>\n",
       "      <td>10886.000000</td>\n",
       "      <td>10886.000000</td>\n",
       "      <td>10886.000000</td>\n",
       "      <td>10886.000000</td>\n",
       "      <td>10886</td>\n",
       "    </tr>\n",
       "    <tr>\n",
       "      <th>mean</th>\n",
       "      <td>2.506614</td>\n",
       "      <td>0.028569</td>\n",
       "      <td>0.680875</td>\n",
       "      <td>1.418427</td>\n",
       "      <td>20.23086</td>\n",
       "      <td>23.655084</td>\n",
       "      <td>61.886460</td>\n",
       "      <td>12.799395</td>\n",
       "      <td>36.021955</td>\n",
       "      <td>155.552177</td>\n",
       "      <td>191.574132</td>\n",
       "      <td>9.992559</td>\n",
       "      <td>0.2636414</td>\n",
       "    </tr>\n",
       "    <tr>\n",
       "      <th>std</th>\n",
       "      <td>1.116174</td>\n",
       "      <td>0.166599</td>\n",
       "      <td>0.466159</td>\n",
       "      <td>0.633839</td>\n",
       "      <td>7.79159</td>\n",
       "      <td>8.474601</td>\n",
       "      <td>19.245033</td>\n",
       "      <td>8.164537</td>\n",
       "      <td>49.960477</td>\n",
       "      <td>151.039033</td>\n",
       "      <td>181.144454</td>\n",
       "      <td>5.476608</td>\n",
       "      <td>0.4406273</td>\n",
       "    </tr>\n",
       "    <tr>\n",
       "      <th>min</th>\n",
       "      <td>1.000000</td>\n",
       "      <td>0.000000</td>\n",
       "      <td>0.000000</td>\n",
       "      <td>1.000000</td>\n",
       "      <td>0.82000</td>\n",
       "      <td>0.760000</td>\n",
       "      <td>0.000000</td>\n",
       "      <td>0.000000</td>\n",
       "      <td>0.000000</td>\n",
       "      <td>0.000000</td>\n",
       "      <td>1.000000</td>\n",
       "      <td>1.000000</td>\n",
       "      <td>False</td>\n",
       "    </tr>\n",
       "    <tr>\n",
       "      <th>25%</th>\n",
       "      <td>2.000000</td>\n",
       "      <td>0.000000</td>\n",
       "      <td>0.000000</td>\n",
       "      <td>1.000000</td>\n",
       "      <td>13.94000</td>\n",
       "      <td>16.665000</td>\n",
       "      <td>47.000000</td>\n",
       "      <td>7.001500</td>\n",
       "      <td>4.000000</td>\n",
       "      <td>36.000000</td>\n",
       "      <td>42.000000</td>\n",
       "      <td>5.000000</td>\n",
       "      <td>0</td>\n",
       "    </tr>\n",
       "    <tr>\n",
       "      <th>50%</th>\n",
       "      <td>3.000000</td>\n",
       "      <td>0.000000</td>\n",
       "      <td>1.000000</td>\n",
       "      <td>1.000000</td>\n",
       "      <td>20.50000</td>\n",
       "      <td>24.240000</td>\n",
       "      <td>62.000000</td>\n",
       "      <td>12.998000</td>\n",
       "      <td>17.000000</td>\n",
       "      <td>118.000000</td>\n",
       "      <td>145.000000</td>\n",
       "      <td>10.000000</td>\n",
       "      <td>0</td>\n",
       "    </tr>\n",
       "    <tr>\n",
       "      <th>75%</th>\n",
       "      <td>4.000000</td>\n",
       "      <td>0.000000</td>\n",
       "      <td>1.000000</td>\n",
       "      <td>2.000000</td>\n",
       "      <td>26.24000</td>\n",
       "      <td>31.060000</td>\n",
       "      <td>77.000000</td>\n",
       "      <td>16.997900</td>\n",
       "      <td>49.000000</td>\n",
       "      <td>222.000000</td>\n",
       "      <td>284.000000</td>\n",
       "      <td>15.000000</td>\n",
       "      <td>1</td>\n",
       "    </tr>\n",
       "    <tr>\n",
       "      <th>max</th>\n",
       "      <td>4.000000</td>\n",
       "      <td>1.000000</td>\n",
       "      <td>1.000000</td>\n",
       "      <td>4.000000</td>\n",
       "      <td>41.00000</td>\n",
       "      <td>45.455000</td>\n",
       "      <td>100.000000</td>\n",
       "      <td>56.996900</td>\n",
       "      <td>367.000000</td>\n",
       "      <td>886.000000</td>\n",
       "      <td>977.000000</td>\n",
       "      <td>19.000000</td>\n",
       "      <td>True</td>\n",
       "    </tr>\n",
       "  </tbody>\n",
       "</table>\n",
       "</div>"
      ],
      "text/plain": [
       "             season       holiday    workingday       weather         temp  \\\n",
       "count  10886.000000  10886.000000  10886.000000  10886.000000  10886.00000   \n",
       "mean       2.506614      0.028569      0.680875      1.418427     20.23086   \n",
       "std        1.116174      0.166599      0.466159      0.633839      7.79159   \n",
       "min        1.000000      0.000000      0.000000      1.000000      0.82000   \n",
       "25%        2.000000      0.000000      0.000000      1.000000     13.94000   \n",
       "50%        3.000000      0.000000      1.000000      1.000000     20.50000   \n",
       "75%        4.000000      0.000000      1.000000      2.000000     26.24000   \n",
       "max        4.000000      1.000000      1.000000      4.000000     41.00000   \n",
       "\n",
       "              atemp      humidity     windspeed        casual    registered  \\\n",
       "count  10886.000000  10886.000000  10886.000000  10886.000000  10886.000000   \n",
       "mean      23.655084     61.886460     12.799395     36.021955    155.552177   \n",
       "std        8.474601     19.245033      8.164537     49.960477    151.039033   \n",
       "min        0.760000      0.000000      0.000000      0.000000      0.000000   \n",
       "25%       16.665000     47.000000      7.001500      4.000000     36.000000   \n",
       "50%       24.240000     62.000000     12.998000     17.000000    118.000000   \n",
       "75%       31.060000     77.000000     16.997900     49.000000    222.000000   \n",
       "max       45.455000    100.000000     56.996900    367.000000    886.000000   \n",
       "\n",
       "              count           day    is_test  \n",
       "count  10886.000000  10886.000000      10886  \n",
       "mean     191.574132      9.992559  0.2636414  \n",
       "std      181.144454      5.476608  0.4406273  \n",
       "min        1.000000      1.000000      False  \n",
       "25%       42.000000      5.000000          0  \n",
       "50%      145.000000     10.000000          0  \n",
       "75%      284.000000     15.000000          1  \n",
       "max      977.000000     19.000000       True  "
      ]
     },
     "execution_count": 53,
     "metadata": {},
     "output_type": "execute_result"
    }
   ],
   "source": [
    "train.describe()"
   ]
  },
  {
   "cell_type": "markdown",
   "metadata": {},
   "source": [
    "1. **count** is target variable and it changes between from **1** to **977**.\n",
    "2. **registered** and **casual** there's only in training set.\n",
    "3. **holiday**, **workingday** is a binary variables (0 or 1).\n",
    "4. **season**, **weather** - categorical variable (1,2,3 or 4).\n",
    "5. rest features is numerical variables."
   ]
  },
  {
   "cell_type": "markdown",
   "metadata": {},
   "source": [
    "## 1.2 Distributions"
   ]
  },
  {
   "cell_type": "code",
   "execution_count": 59,
   "metadata": {
    "collapsed": false
   },
   "outputs": [
    {
     "data": {
      "image/png": "[encoded data removed]",
      "text/plain": [
       "<matplotlib.figure.Figure at 0x114fb24d0>"
      ]
     },
     "metadata": {},
     "output_type": "display_data"
    }
   ],
   "source": [
    "train.hist(figsize=(16,12),bins=30)\n",
    "plt.show()"
   ]
  },
  {
   "cell_type": "markdown",
   "metadata": {},
   "source": [
    "1. **atemp** have some spikes on 10,20,30 (more rounded number).\n",
    "2. **count** the most value is in the first bucket and have big tail on the second right. We can try transform using log (it can be helpful).\n",
    "3. **weather** looks like corelated to count of rows.\n",
    "4. ** season** all buckets look comparatively equal.\n",
    "5. **windspeed** there're some missing buckets between 0 and 10, and 19. Maybe it's some problem with data (human error)."
   ]
  },
  {
   "cell_type": "markdown",
   "metadata": {},
   "source": [
    "## 1.3 Target variable\n",
    "- we should predict **count**\n",
    "- but **count** is also summary **registered** and **casual**\n",
    "- do log transformation (for count and registered/casual) as well and predict it"
   ]
  },
  {
   "cell_type": "markdown",
   "metadata": {},
   "source": [
    "## 1.4 Correlation matrix"
   ]
  },
  {
   "cell_type": "code",
   "execution_count": 60,
   "metadata": {
    "collapsed": false
   },
   "outputs": [
    {
     "data": {
      "text/plain": [
       "<matplotlib.axes._subplots.AxesSubplot at 0x11e998d50>"
      ]
     },
     "execution_count": 60,
     "metadata": {},
     "output_type": "execute_result"
    },
    {
     "data": {
      "image/png": "[encoded data removed]",
      "text/plain": [
       "<matplotlib.figure.Figure at 0x115eaba10>"
      ]
     },
     "metadata": {},
     "output_type": "display_data"
    }
   ],
   "source": [
    "f, ax = plt.subplots(figsize=(20,20))\n",
    "sns.corrplot(train, sig_stars=False, ax=ax)"
   ]
  },
  {
   "cell_type": "markdown",
   "metadata": {},
   "source": [
    "1. **count** vs **registered**, **casual** (0.97, 0.69) correlated (it's not big surprise).\n",
    "2. **count** vs **temp**, **atemp** also correlated, but less (0.39, 0.39).\n",
    "3. **count** vs **humidity**, **weather** have inverse correlation (-0.32, -0.13)."
   ]
  },
  {
   "cell_type": "markdown",
   "metadata": {},
   "source": [
    "# 2. Prepare Data\n",
    "1. Transform target variable\n",
    "2. Detect outliers\n",
    "3. Importance features\n",
    "4. Feature engineering"
   ]
  },
  {
   "cell_type": "markdown",
   "metadata": {},
   "source": [
    "## 2.1 Transform target variable"
   ]
  },
  {
   "cell_type": "code",
   "execution_count": 61,
   "metadata": {
    "collapsed": true
   },
   "outputs": [],
   "source": [
    "def summary(values, percentiles=[1, 5, 95, 99]):\n",
    "    for percnetile in percentiles:\n",
    "        print '{0}th -> {1}'.format(percnetile, np.percentile(values, percnetile) )\n",
    "\n",
    "def sub_plot(data, column, ax1, ax2):\n",
    "    data.hist(column, bins=20, ax=ax1)\n",
    "    data.boxplot(column, ax=ax2)"
   ]
  },
  {
   "cell_type": "markdown",
   "metadata": {},
   "source": [
    "### Why we want transform target variable using `log` function?\n",
    "This question we can change to this: why we want transform distribution with long tail (skewed) to normal?\n",
    "\n",
    "<img src=\"http://www.assetinsights.net/Concepts/Curves_Modal_Left_and_Right.JPG\" />"
   ]
  },
  {
   "cell_type": "markdown",
   "metadata": {},
   "source": [
    "Work with non-skewness distribution help get better result."
   ]
  },
  {
   "cell_type": "markdown",
   "metadata": {},
   "source": [
    "#### Before transform by log, let's check what values do we have and detect (remember, we can't transform 0 or negative value using log)"
   ]
  },
  {
   "cell_type": "code",
   "execution_count": 74,
   "metadata": {
    "collapsed": false
   },
   "outputs": [
    {
     "name": "stdout",
     "output_type": "stream",
     "text": [
      "count\n",
      "equals to zero 0\n",
      "less than zero 0\n",
      "registered\n",
      "equals to zero 15\n",
      "less than zero 0\n",
      "casual\n",
      "equals to zero 986\n",
      "less than zero 0\n"
     ]
    }
   ],
   "source": [
    "for column_name in ['count', 'registered', 'casual']:\n",
    "    print column_name\n",
    "    print 'equals to zero', train[ train[column_name] == 0 ][column_name].count()\n",
    "    print 'less than zero', train[ train[column_name] < 0 ][column_name].count()"
   ]
  },
  {
   "cell_type": "markdown",
   "metadata": {},
   "source": [
    "1. All columns have positive value.\n",
    "2. For **registered** and **casual** we have cases when value is equals to zero.\n",
    "3. **For solving second point, we can increment all values by one**."
   ]
  },
  {
   "cell_type": "code",
   "execution_count": 75,
   "metadata": {
    "collapsed": false
   },
   "outputs": [],
   "source": [
    "train['{0}_log'.format('count')] = train['count'].map(lambda x: np.log2(x) )\n",
    "\n",
    "for name in ['registered', 'casual']:\n",
    "    train['{0}_log'.format(name)] = train[name].map(lambda x: np.log2(x+1) )"
   ]
  },
  {
   "cell_type": "markdown",
   "metadata": {},
   "source": [
    "## 2.2 Detect Outliers"
   ]
  },
  {
   "cell_type": "code",
   "execution_count": 77,
   "metadata": {
    "collapsed": false
   },
   "outputs": [
    {
     "name": "stdout",
     "output_type": "stream",
     "text": [
      "count\n",
      "1th -> 2.0\n",
      "2th -> 2.0\n",
      "3th -> 3.0\n",
      "4th -> 4.0\n",
      "5th -> 5.0\n",
      "6th -> 5.0\n",
      "7th -> 6.0\n",
      "8th -> 7.0\n",
      "9th -> 8.0\n",
      "90th -> 452.0\n",
      "91th -> 469.35\n",
      "92th -> 490.0\n",
      "93th -> 508.0\n",
      "94th -> 536.9\n",
      "95th -> 563.75\n",
      "96th -> 593.0\n",
      "97th -> 638.0\n",
      "98th -> 686.0\n",
      "99th -> 774.15\n",
      "\n",
      "count_log\n",
      "1th -> 1.0\n",
      "2th -> 1.0\n",
      "3th -> 1.58496250072\n",
      "4th -> 2.0\n",
      "5th -> 2.32192809489\n",
      "6th -> 2.32192809489\n",
      "7th -> 2.58496250072\n",
      "8th -> 2.80735492206\n",
      "9th -> 3.0\n",
      "90th -> 8.82017896242\n",
      "91th -> 8.87451960443\n",
      "92th -> 8.936637939\n",
      "93th -> 8.98868468677\n",
      "94th -> 9.06850936923\n",
      "95th -> 9.13891129232\n",
      "96th -> 9.21188829455\n",
      "97th -> 9.31741261376\n",
      "98th -> 9.42206476617\n",
      "99th -> 9.59646916775\n",
      "\n",
      "registered\n",
      "1th -> 1.0\n",
      "2th -> 2.0\n",
      "3th -> 3.0\n",
      "4th -> 3.0\n",
      "5th -> 4.0\n",
      "6th -> 4.0\n",
      "7th -> 5.0\n",
      "8th -> 6.0\n",
      "9th -> 6.0\n",
      "90th -> 354.0\n",
      "91th -> 368.0\n",
      "92th -> 384.2\n",
      "93th -> 408.0\n",
      "94th -> 434.0\n",
      "95th -> 464.0\n",
      "96th -> 494.6\n",
      "97th -> 545.45\n",
      "98th -> 622.3\n",
      "99th -> 697.0\n",
      "\n",
      "registered_log\n",
      "1th -> 1.0\n",
      "2th -> 1.58496250072\n",
      "3th -> 2.0\n",
      "4th -> 2.0\n",
      "5th -> 2.32192809489\n",
      "6th -> 2.32192809489\n",
      "7th -> 2.58496250072\n",
      "8th -> 2.80735492206\n",
      "9th -> 2.80735492206\n",
      "90th -> 8.47167521439\n",
      "91th -> 8.52747700606\n",
      "92th -> 8.58946311592\n",
      "93th -> 8.67595703294\n",
      "94th -> 8.76487159074\n",
      "95th -> 8.861086906\n",
      "96th -> 8.95303167222\n",
      "97th -> 9.09394508776\n",
      "98th -> 9.28378251278\n",
      "99th -> 9.44708322621\n",
      "\n",
      "casual\n",
      "1th -> 0.0\n",
      "2th -> 0.0\n",
      "3th -> 0.0\n",
      "4th -> 0.0\n",
      "5th -> 0.0\n",
      "6th -> 0.0\n",
      "7th -> 0.0\n",
      "8th -> 0.0\n",
      "9th -> 0.0\n",
      "90th -> 94.0\n",
      "91th -> 100.0\n",
      "92th -> 108.0\n",
      "93th -> 115.0\n",
      "94th -> 127.0\n",
      "95th -> 141.0\n",
      "96th -> 158.6\n",
      "97th -> 179.0\n",
      "98th -> 204.3\n",
      "99th -> 240.15\n",
      "\n",
      "casual_log\n",
      "1th -> 0.0\n",
      "2th -> 0.0\n",
      "3th -> 0.0\n",
      "4th -> 0.0\n",
      "5th -> 0.0\n",
      "6th -> 0.0\n",
      "7th -> 0.0\n",
      "8th -> 0.0\n",
      "9th -> 0.0\n",
      "90th -> 6.56985560833\n",
      "91th -> 6.65821148275\n",
      "92th -> 6.76818432478\n",
      "93th -> 6.85798099513\n",
      "94th -> 7.0\n",
      "95th -> 7.1497471195\n",
      "96th -> 7.31831003905\n",
      "97th -> 7.49185309633\n",
      "98th -> 7.68158622781\n",
      "99th -> 7.91378542139\n",
      "\n"
     ]
    }
   ],
   "source": [
    "for name in ['count', 'registered', 'casual']:\n",
    "    print name\n",
    "    summary(train[name].values, range(1, 10, 1)+ range(90, 100, 1))\n",
    "    print \"\\n{0}_log\".format(name)\n",
    "    summary(train[\"{0}_log\".format(name)].values, range(1, 10, 1)+ range(90, 100, 1))\n",
    "    print"
   ]
  },
  {
   "cell_type": "markdown",
   "metadata": {},
   "source": [
    "### Count"
   ]
  },
  {
   "cell_type": "code",
   "execution_count": 80,
   "metadata": {
    "collapsed": false
   },
   "outputs": [
    {
     "data": {
      "text/plain": [
       "<matplotlib.figure.Figure at 0x11ea54ed0>"
      ]
     },
     "metadata": {},
     "output_type": "display_data"
    },
    {
     "data": {
      "image/png": "[encoded data removed]",
      "text/plain": [
       "<matplotlib.figure.Figure at 0x11e13c7d0>"
      ]
     },
     "metadata": {},
     "output_type": "display_data"
    }
   ],
   "source": [
    "plt.figure(figsize=(500,20))\n",
    "fig, ((ax1, ax2), (ax3, ax4), (ax5, ax6), (ax7, ax8)) = plt.subplots(4,2, figsize=(15, 10))\n",
    "fig.subplots_adjust(hspace=.8)\n",
    "\n",
    "sub_plot(train, 'count', ax1, ax2)\n",
    "sub_plot(train[train['count'] < 774], 'count', ax3, ax4)\n",
    "sub_plot(train, 'count_log', ax5, ax6)\n",
    "sub_plot(train[ train.count_log > 2 ], 'count_log', ax7, ax8)"
   ]
  },
  {
   "cell_type": "markdown",
   "metadata": {},
   "source": [
    "### Registered"
   ]
  },
  {
   "cell_type": "code",
   "execution_count": 81,
   "metadata": {
    "collapsed": false
   },
   "outputs": [
    {
     "data": {
      "text/plain": [
       "<matplotlib.figure.Figure at 0x11e3935d0>"
      ]
     },
     "metadata": {},
     "output_type": "display_data"
    },
    {
     "data": {
      "image/png": "[encoded data removed]",
      "text/plain": [
       "<matplotlib.figure.Figure at 0x11db0e650>"
      ]
     },
     "metadata": {},
     "output_type": "display_data"
    }
   ],
   "source": [
    "plt.figure(figsize=(500,20))\n",
    "fig, ((ax1, ax2), (ax3, ax4), (ax5, ax6)) = plt.subplots(3,2, figsize=(15, 10))\n",
    "fig.subplots_adjust(hspace=.8)\n",
    "\n",
    "sub_plot(train, 'registered', ax1, ax2)\n",
    "sub_plot(train[train < 622], 'registered', ax3, ax4)\n",
    "sub_plot(train, 'registered_log', ax5, ax6)"
   ]
  },
  {
   "cell_type": "markdown",
   "metadata": {},
   "source": [
    "### Casual"
   ]
  },
  {
   "cell_type": "code",
   "execution_count": 82,
   "metadata": {
    "collapsed": false
   },
   "outputs": [
    {
     "data": {
      "text/plain": [
       "<matplotlib.figure.Figure at 0x11e577110>"
      ]
     },
     "metadata": {},
     "output_type": "display_data"
    },
    {
     "data": {
      "image/png": "[encoded data removed]",
      "text/plain": [
       "<matplotlib.figure.Figure at 0x121db8bd0>"
      ]
     },
     "metadata": {},
     "output_type": "display_data"
    }
   ],
   "source": [
    "plt.figure(figsize=(500,20))\n",
    "fig, ((ax1, ax2), (ax3, ax4), (ax5, ax6)) = plt.subplots(3,2, figsize=(15, 10))\n",
    "fig.subplots_adjust(hspace=.8)\n",
    "\n",
    "sub_plot(train, 'casual', ax1, ax2)\n",
    "sub_plot(train[train['casual'] < 240], 'casual', ax3, ax4)\n",
    "sub_plot(train, 'casual_log', ax5, ax6)"
   ]
  },
  {
   "cell_type": "markdown",
   "metadata": {},
   "source": [
    "## 2.3 Importances features"
   ]
  },
  {
   "cell_type": "code",
   "execution_count": 86,
   "metadata": {
    "collapsed": false
   },
   "outputs": [
    {
     "data": {
      "image/png": "[encoded data removed]",
      "text/plain": [
       "<matplotlib.figure.Figure at 0x11eb2ca10>"
      ]
     },
     "metadata": {},
     "output_type": "display_data"
    }
   ],
   "source": [
    "def select_features(data):\n",
    "    columns = data.loc[ :, (data.dtypes == np.int64) | (data.dtypes == np.float64) | (data.dtypes == np.bool) ].columns.values    \n",
    "    return [feat for feat in columns if feat not in ['count_log', 'count', 'casual', 'casual_log', 'registered', 'registered_log'] ] \n",
    "\n",
    "def get_X_y(data, features=None, target_variable='count'):\n",
    "    if not features:\n",
    "        features = select_features(data)\n",
    "        \n",
    "    X = data[features].values\n",
    "    y = data[target_variable].values\n",
    "    \n",
    "    return X,y\n",
    "\n",
    "def get_importance_features(data, model, limit, target_variable):\n",
    "    X,y = get_X_y(data, target_variable=target_variable)\n",
    "    cols = select_features(data)\n",
    "    \n",
    "    model.fit(X, y)\n",
    "    feats = pd.DataFrame(model.feature_importances_, index=data[cols].columns)\n",
    "    feats = feats.sort([0], ascending=False) [:limit]\n",
    "    return feats.rename(columns={0:'name'})\n",
    "    \n",
    "def draw_importance_features(data, model=RandomForestRegressor(), limit=30, target_variable='count'):\n",
    "    feats = get_importance_features(data, model, limit, target_variable)\n",
    "    feats.plot(kind='bar', figsize=(20, 8), title=\"Target variable = {0}\".format(target_variable))\n",
    "\n",
    "\n",
    "draw_importance_features(train, target_variable='count')"
   ]
  },
  {
   "cell_type": "markdown",
   "metadata": {},
   "source": [
    "# 3. Modeling and Evaluation\n",
    "1. Preapre a quality function\n",
    "2. Prepare training set and validate set\n",
    "3. Single variable model (base line)\n",
    "4. Two variable model\n",
    "5. Using more advanced models\n",
    "6. Analyze models\n",
    "7. Ensemble"
   ]
  },
  {
   "cell_type": "markdown",
   "metadata": {},
   "source": [
    "## 3.1 Preapre a quality function"
   ]
  },
  {
   "cell_type": "markdown",
   "metadata": {},
   "source": [
    "$$ \\sqrt{\\frac{1}{n} \\sum_{i=1}^n (\\log(p_i + 1) - \\log(a_i+1))^2 }$$\n",
    "\n",
    "where  \n",
    "**n** is the number of hours in the test set  \n",
    "**pi** is your predicted count  \n",
    "**ai** is the actual count  \n",
    "**log(x)** is the natural logarithm  "
   ]
  },
  {
   "cell_type": "markdown",
   "metadata": {},
   "source": [
    "### Why we have +1 for logarithm algorithm? Let's recall a shape logarithm function.\n",
    "Argument should be greater than 0. In our case **pi** and **ai** can be equals to 0.\n",
    "<img src=\"https://upload.wikimedia.org/wikipedia/commons/thumb/1/17/Binary_logarithm_plot_with_ticks.svg/408px-Binary_logarithm_plot_with_ticks.svg.png\" />"
   ]
  },
  {
   "cell_type": "markdown",
   "metadata": {},
   "source": [
    "### Let's play around with a quality function\n",
    "\n",
    "|pi  |ai |  result |\n",
    "|----|---|---------|\n",
    "|1000| 0 | 6.909   |   \n",
    "|100 | 0 | 4.615   |   \n",
    "|10  | 0 | 2.397   |  \n",
    "|5   | 0 | 1.792   |\n",
    "|1   | 0 | 0.693   |\n",
    "|0.5 | 0 | 0.405   |\n",
    "|0.2 | 0 | 0.182   |\n",
    "|0   | 0 | 0.0     |\n",
    "\n",
    "For sample above `rmsle(pi, ai)` is **3.644**.\n",
    "*Note: but average column result is* **2.918**."
   ]
  },
  {
   "cell_type": "code",
   "execution_count": 87,
   "metadata": {
    "collapsed": true
   },
   "outputs": [],
   "source": [
    "def rmsle(y_true, y_pred):\n",
    "    diff = np.log(y_pred + 1) - np.log(y_true + 1)\n",
    "    mean_error = np.square(diff).mean()\n",
    "    return np.sqrt(mean_error)\n",
    "\n",
    "scorer = make_scorer(rmsle, greater_is_better=False)"
   ]
  },
  {
   "cell_type": "markdown",
   "metadata": {},
   "source": [
    "## 3.2 Train and test sets\n",
    "Let's check distribution by days in train set."
   ]
  },
  {
   "cell_type": "code",
   "execution_count": 101,
   "metadata": {
    "collapsed": false
   },
   "outputs": [
    {
     "data": {
      "text/plain": [
       "array([ 1,  2,  3,  4,  5,  6,  7,  8,  9, 10, 11, 12, 13, 14, 15, 16, 17,\n",
       "       18, 19])"
      ]
     },
     "execution_count": 101,
     "metadata": {},
     "output_type": "execute_result"
    }
   ],
   "source": [
    "train['datetime'] = pd.to_datetime( train['datetime'] )\n",
    "train['day']      = train['datetime'].map(lambda x: x.day)\n",
    "train['hour']      = train['datetime'].map(lambda x: x.hour)\n",
    "train['year']      = train['datetime'].map(lambda x: x.year)\n",
    "    \n",
    "train.day.unique()"
   ]
  },
  {
   "cell_type": "code",
   "execution_count": 96,
   "metadata": {
    "collapsed": true
   },
   "outputs": [],
   "source": [
    "def train_test_split(data, last_training_day=0.3):\n",
    "    days = train.day.unique()\n",
    "    shuffle(days)\n",
    "    test_days = days[: len(days) * 0.3]\n",
    "    \n",
    "    data['is_test'] = data.day.isin(test_days)\n",
    "    df_train = data[data.is_test == False] \n",
    "    df_test  = data[data.is_test == True]\n",
    "    \n",
    "    return df_train, df_test"
   ]
  },
  {
   "cell_type": "markdown",
   "metadata": {},
   "source": [
    "### Check quality model\n",
    "General solution for checking quality all models which we'll have."
   ]
  },
  {
   "cell_type": "code",
   "execution_count": 97,
   "metadata": {
    "collapsed": true
   },
   "outputs": [],
   "source": [
    "def apply_model(model, X_train, X_test, y_train):\n",
    "    model.fit(X_train, y_train)\n",
    "    return model.predict(X_test)\n",
    "\n",
    "def quality_model(y_test, y_pred):\n",
    "    return rmsle(y_test, y_pred)"
   ]
  },
  {
   "cell_type": "markdown",
   "metadata": {},
   "source": [
    "### Train & Test sets"
   ]
  },
  {
   "cell_type": "code",
   "execution_count": 103,
   "metadata": {
    "collapsed": true
   },
   "outputs": [],
   "source": [
    "df_train, df_test = train_test_split(train)\n",
    "\n",
    "features = [feature for feature in train.columns if feature not in ['datetime', 'count', 'count_log', 'registered', 'registered_log', 'casual', 'casual_log', 'is_test']]\n",
    "\n",
    "X_train  = df_train[features].values\n",
    "X_test   = df_test[features].values\n",
    "\n",
    "y_train_count   = df_train['count'].values\n",
    "y_test_count    = df_test['count'].values\n",
    "\n",
    "y_train_count_log   = df_train['count_log'].values\n",
    "y_test_count_log    = df_test['count_log'].values\n",
    "\n",
    "y_train_registered   = df_train['registered'].values\n",
    "y_train_casual       = df_train['casual'].values\n",
    "\n",
    "y_train_registered_log   = df_train['registered_log'].values\n",
    "y_train_casual_log       = df_train['casual_log'].values\n",
    "\n",
    "models_result = {}"
   ]
  },
  {
   "cell_type": "markdown",
   "metadata": {},
   "source": [
    "## 3.3 Single variable model"
   ]
  },
  {
   "cell_type": "code",
   "execution_count": 99,
   "metadata": {
    "collapsed": false
   },
   "outputs": [
    {
     "name": "stdout",
     "output_type": "stream",
     "text": [
      "count\n",
      "mean: 0.828838527084\n",
      "median: 0.794615181678\n",
      "\n",
      "count_log\n",
      "mean: 0.774930266704\n",
      "median: 0.794615038561\n",
      "\n"
     ]
    }
   ],
   "source": [
    "class SingleVariableModel(BaseEstimator, ClassifierMixin):\n",
    "    def __init__(self, features, df_train, agg_fun=np.mean, target_column='count'):\n",
    "        self.features = features\n",
    "        self.df_train = df_train\n",
    "        self.agg_fun = agg_fun\n",
    "        self.target_column = target_column\n",
    "        \n",
    "    def pre_calc(self):\n",
    "        self.single_var = df_train.groupby('hour').agg(self.agg_fun)[self.target_column].reset_index().to_dict()[self.target_column]\n",
    "        \n",
    "    def fit(self, X, y):\n",
    "        self.pre_calc()\n",
    "        return self\n",
    "        \n",
    "    def predict(self, X):\n",
    "        hour_idx = self.features.index('hour')\n",
    "        result = []\n",
    "\n",
    "        for row in X:\n",
    "            result.append( self.single_var[ int(row[hour_idx]) ] )\n",
    "        return np.array(result)\n",
    "    \n",
    "    def __repr__(self):\n",
    "        return 'SingleVariableModel: {0} {1}'.format(agg_fun.__name__, target_column)\n",
    "\n",
    "\n",
    "for target_column in ['count', 'count_log']:\n",
    "    print target_column\n",
    "    for agg_fun in [np.mean, np.median]:\n",
    "        model = SingleVariableModel(features, df_train, agg_fun, target_column)\n",
    "        y_pred = apply_model(model, X_train, X_test, y_train_count)\n",
    "        if target_column == 'count_log':\n",
    "            y_pred = np.exp2(y_pred)\n",
    "        \n",
    "        quality = quality_model(y_test_count, y_pred)\n",
    "        models_result[ ('single_variable', model, target_column) ] = quality\n",
    "        print \"{0}: {1}\".format(agg_fun.__name__, quality)\n",
    "    print"
   ]
  },
  {
   "cell_type": "markdown",
   "metadata": {},
   "source": [
    "## 3.4 Two variable model\n",
    "We'll use `hour` and `year`."
   ]
  },
  {
   "cell_type": "code",
   "execution_count": 104,
   "metadata": {
    "collapsed": false
   },
   "outputs": [
    {
     "name": "stdout",
     "output_type": "stream",
     "text": [
      "count\n",
      "mean: 0.739475590348\n",
      "median: 0.70480097445\n",
      "\n",
      "count_log\n",
      "mean: 0.689894376027\n",
      "median: 0.704810330184\n",
      "\n"
     ]
    }
   ],
   "source": [
    "class TwoVariableModel(BaseEstimator, ClassifierMixin):\n",
    "    def __init__(self, features, df_train, agg_fun=np.mean, target_column='count'):\n",
    "        self.features = features\n",
    "        self.df_train = df_train\n",
    "        self.agg_fun = agg_fun\n",
    "        self.target_column = target_column\n",
    "    \n",
    "    def pre_calc(self):\n",
    "        agg_hour_year = df_train.groupby(['hour', 'year']).agg(self.agg_fun)[self.target_column].reset_index().to_dict()\n",
    "        self.two_var = {}\n",
    "        for hour, target_value, year in zip(agg_hour_year['hour'].values(), agg_hour_year[self.target_column].values(), agg_hour_year['year'].values()):\n",
    "            self.two_var[(year, hour)] = target_value\n",
    "    \n",
    "    def fit(self, X, y):\n",
    "        self.pre_calc()\n",
    "        return self\n",
    "        \n",
    "    def predict(self, X):\n",
    "        hour_idx = self.features.index('hour')\n",
    "        year_idx = self.features.index('year')\n",
    "        result = []\n",
    "\n",
    "        for row in X:\n",
    "            year = int(row[year_idx])\n",
    "            hour = int(row[hour_idx])\n",
    "            result.append( self.two_var[(year, hour)] )\n",
    "            \n",
    "        return np.array(result)\n",
    "\n",
    "    def __repr__(self):\n",
    "        return 'TwoVariableModel: {0} {1}'.format(agg_fun.__name__, target_column)\n",
    "\n",
    "\n",
    "for target_column in ['count', 'count_log']:\n",
    "    print target_column\n",
    "    for agg_fun in [np.mean, np.median]:\n",
    "        model = TwoVariableModel(features, df_train, agg_fun, target_column)\n",
    "        y_pred = apply_model(model, X_train, X_test, y_train_count)\n",
    "        if target_column == 'count_log':\n",
    "            y_pred = np.exp2(y_pred)\n",
    "            \n",
    "        quality = quality_model(y_test_count, y_pred)\n",
    "        models_result[ ('two_variable', model, target_column) ] = quality\n",
    "        print \"{0}: {1}\".format(agg_fun.__name__, quality)     \n",
    "    print"
   ]
  },
  {
   "cell_type": "markdown",
   "metadata": {},
   "source": [
    "## 3.5 More advanced models"
   ]
  },
  {
   "cell_type": "code",
   "execution_count": 105,
   "metadata": {
    "collapsed": false
   },
   "outputs": [],
   "source": [
    "def default_models():\n",
    "    yield ('extra_tree', ExtraTreesRegressor)\n",
    "    yield ('random_forest', RandomForestRegressor)\n",
    "    yield ('bagging', BaggingRegressor)\n",
    "    yield ('dec_tree', DecisionTreeRegressor)"
   ]
  },
  {
   "cell_type": "markdown",
   "metadata": {},
   "source": [
    "### 3.5.1 Count"
   ]
  },
  {
   "cell_type": "code",
   "execution_count": 106,
   "metadata": {
    "collapsed": false
   },
   "outputs": [
    {
     "name": "stdout",
     "output_type": "stream",
     "text": [
      "extra_tree: 0.398053787\n",
      "random_forest: 0.385426531659\n",
      "bagging: 0.399624216478\n",
      "dec_tree: 0.490529774388\n"
     ]
    }
   ],
   "source": [
    "for name, model_class in default_models():\n",
    "    model = model_class()\n",
    "    y_pred = apply_model(model, X_train, X_test, y_train_count)\n",
    "    quality = quality_model(y_test_count, y_pred)\n",
    "    models_result[ (name, model, 'count') ] = quality\n",
    "    print '{0}: {1}'.format(name, quality)"
   ]
  },
  {
   "cell_type": "markdown",
   "metadata": {},
   "source": [
    "### 3.5.2 Count log"
   ]
  },
  {
   "cell_type": "code",
   "execution_count": 108,
   "metadata": {
    "collapsed": false
   },
   "outputs": [
    {
     "name": "stdout",
     "output_type": "stream",
     "text": [
      "extra_tree: 0.376611415462\n",
      "random_forest: 0.381776905328\n",
      "bagging: 0.380495919819\n",
      "dec_tree: 0.484229357597\n"
     ]
    }
   ],
   "source": [
    "for name, model_class in default_models():\n",
    "    model = model_class()\n",
    "    y_pred_log2 = apply_model(model, X_train, X_test, y_train_count_log)\n",
    "    quality = quality_model(y_test_count, np.exp2(y_pred_log2) )\n",
    "    models_result[ (name, model, 'count_log') ] = quality\n",
    "    print '{0}: {1}'.format(name, quality)"
   ]
  },
  {
   "cell_type": "markdown",
   "metadata": {},
   "source": [
    "### 3.5.3 Registered + Casual"
   ]
  },
  {
   "cell_type": "code",
   "execution_count": 109,
   "metadata": {
    "collapsed": false
   },
   "outputs": [
    {
     "name": "stdout",
     "output_type": "stream",
     "text": [
      "extra_tree: 0.401033614683\n",
      "random_forest: 0.37458856402\n",
      "bagging: 0.377148159305\n",
      "dec_tree: 0.438310856187\n"
     ]
    }
   ],
   "source": [
    "for name, model_class in default_models():\n",
    "    model_register, model_casual = model_class(), model_class()\n",
    "    y_pred_register = apply_model(model_register, X_train, X_test, y_train_registered)\n",
    "    y_pred_casual = apply_model(model_casual, X_train, X_test, y_train_casual)\n",
    "    y_pred = (y_pred_register + y_pred_casual)\n",
    "\n",
    "    \n",
    "    quality = quality_model(y_test_count, y_pred )\n",
    "    models_result[ (name, (model_register, model_casual), 'registered_casual') ] = quality\n",
    "    print '{0}: {1}'.format(name, quality)"
   ]
  },
  {
   "cell_type": "markdown",
   "metadata": {},
   "source": [
    "### 3.5.4 Registered log + Casual log"
   ]
  },
  {
   "cell_type": "code",
   "execution_count": 110,
   "metadata": {
    "collapsed": false
   },
   "outputs": [
    {
     "name": "stdout",
     "output_type": "stream",
     "text": [
      "extra_tree: 0.357488012378\n",
      "random_forest: 0.358035444959\n",
      "bagging: 0.364735063068\n",
      "dec_tree: 0.451152873602\n"
     ]
    }
   ],
   "source": [
    "for name, model_class in default_models():\n",
    "    model_register, model_casual = model_class(), model_class()\n",
    "    y_pred_register_log = apply_model(model_register, X_train, X_test, y_train_registered_log)\n",
    "    y_pred_casual_log = apply_model(model_casual, X_train, X_test, y_train_casual_log)\n",
    "    y_pred = (np.exp2(y_pred_register_log)-1) + (np.exp2(y_pred_casual_log)-1)\n",
    "\n",
    "    \n",
    "    quality = quality_model(y_test_count, y_pred )\n",
    "    models_result[ (name, (model_register, model_casual), 'registered_casual_log') ] = quality\n",
    "    print '{0}: {1}'.format(name, quality)"
   ]
  },
  {
   "cell_type": "markdown",
   "metadata": {},
   "source": [
    "## 3.6 Analyze models\n",
    "Which one predict too close the true value?"
   ]
  },
  {
   "cell_type": "code",
   "execution_count": 111,
   "metadata": {
    "collapsed": true
   },
   "outputs": [],
   "source": [
    "y_pred_by_model = {\n",
    "    'count': y_test_count\n",
    "}\n",
    "for model_item in models_result:\n",
    "    if 'registered_casual' in model_item[2]:\n",
    "        model_register, model_casual = model_item[1]\n",
    "        y_pred_register = model_register.predict(X_test)\n",
    "        y_pred_casual = model_register.predict(X_test)\n",
    "        \n",
    "        if '_log' in model_item[2]:\n",
    "            y_pred = (np.exp2(y_pred_register)-1) + (np.exp2(y_pred_casual)-1)\n",
    "        else:\n",
    "            y_pred = y_pred_register + y_pred_casual\n",
    "        \n",
    "    else:\n",
    "        y_pred = model.predict(X_test)\n",
    "        \n",
    "        if '_log' in model_item[2]:\n",
    "            y_pred = np.exp2(y_pred)\n",
    "            \n",
    "    key = \"{0}_+_{1}\".format(model_item[0], model_item[2])\n",
    "    y_pred_by_model[key] = y_pred"
   ]
  },
  {
   "cell_type": "code",
   "execution_count": 112,
   "metadata": {
    "collapsed": false
   },
   "outputs": [
    {
     "data": {
      "text/html": [
       "<div>\n",
       "<table border=\"1\" class=\"dataframe\">\n",
       "  <thead>\n",
       "    <tr style=\"text-align: right;\">\n",
       "      <th></th>\n",
       "      <th>winner</th>\n",
       "      <th>count</th>\n",
       "    </tr>\n",
       "  </thead>\n",
       "  <tbody>\n",
       "    <tr>\n",
       "      <th>1</th>\n",
       "      <td>bagging_+_count_log</td>\n",
       "      <td>1699</td>\n",
       "    </tr>\n",
       "    <tr>\n",
       "      <th>0</th>\n",
       "      <td>bagging_+_count</td>\n",
       "      <td>220</td>\n",
       "    </tr>\n",
       "    <tr>\n",
       "      <th>4</th>\n",
       "      <td>dec_tree_+_registered_casual</td>\n",
       "      <td>211</td>\n",
       "    </tr>\n",
       "    <tr>\n",
       "      <th>5</th>\n",
       "      <td>dec_tree_+_registered_casual_log</td>\n",
       "      <td>165</td>\n",
       "    </tr>\n",
       "    <tr>\n",
       "      <th>3</th>\n",
       "      <td>bagging_+_registered_casual_log</td>\n",
       "      <td>112</td>\n",
       "    </tr>\n",
       "    <tr>\n",
       "      <th>9</th>\n",
       "      <td>random_forest_+_registered_casual_log</td>\n",
       "      <td>108</td>\n",
       "    </tr>\n",
       "    <tr>\n",
       "      <th>7</th>\n",
       "      <td>extra_tree_+_registered_casual_log</td>\n",
       "      <td>106</td>\n",
       "    </tr>\n",
       "    <tr>\n",
       "      <th>2</th>\n",
       "      <td>bagging_+_registered_casual</td>\n",
       "      <td>82</td>\n",
       "    </tr>\n",
       "    <tr>\n",
       "      <th>6</th>\n",
       "      <td>extra_tree_+_registered_casual</td>\n",
       "      <td>82</td>\n",
       "    </tr>\n",
       "    <tr>\n",
       "      <th>8</th>\n",
       "      <td>random_forest_+_registered_casual</td>\n",
       "      <td>73</td>\n",
       "    </tr>\n",
       "  </tbody>\n",
       "</table>\n",
       "</div>"
      ],
      "text/plain": [
       "                                  winner  count\n",
       "1                    bagging_+_count_log   1699\n",
       "0                        bagging_+_count    220\n",
       "4           dec_tree_+_registered_casual    211\n",
       "5       dec_tree_+_registered_casual_log    165\n",
       "3        bagging_+_registered_casual_log    112\n",
       "9  random_forest_+_registered_casual_log    108\n",
       "7     extra_tree_+_registered_casual_log    106\n",
       "2            bagging_+_registered_casual     82\n",
       "6         extra_tree_+_registered_casual     82\n",
       "8      random_forest_+_registered_casual     73"
      ]
     },
     "execution_count": 112,
     "metadata": {},
     "output_type": "execute_result"
    }
   ],
   "source": [
    "df_pred = pd.DataFrame(y_pred_by_model)\n",
    "columns_pred = [c for c in df_pred.columns if c != 'count']\n",
    "\n",
    "def find_winer(row):\n",
    "    count_value = row['count']\n",
    "    \n",
    "    min_col = columns_pred[0]\n",
    "    min_value = abs(count_value - row[min_col])\n",
    "    for col in columns_pred[1:]:\n",
    "        diff = abs(count_value - row[col])\n",
    "        if diff < min_value:\n",
    "            min_value = diff\n",
    "            min_col = col\n",
    "\n",
    "    return min_col\n",
    "\n",
    "df_pred['winner'] = df_pred.apply(find_winer, axis=1)\n",
    "df_pred.groupby('winner').count()['count'].reset_index().sort('count', ascending=False)"
   ]
  },
  {
   "cell_type": "markdown",
   "metadata": {},
   "source": [
    "## 3.7 Ensemble\n",
    "Combine all result into one."
   ]
  },
  {
   "cell_type": "code",
   "execution_count": 113,
   "metadata": {
    "collapsed": false
   },
   "outputs": [
    {
     "name": "stdout",
     "output_type": "stream",
     "text": [
      "ensemble_mean 0.396166795708\n",
      "ensemble_median 0.46798803727\n"
     ]
    }
   ],
   "source": [
    "columns_ensemble = [ c for c in columns_pred ]\n",
    "\n",
    "df_pred['ensemble_mean'] = df_pred[columns_ensemble].apply(np.mean, axis=1)\n",
    "df_pred['ensemble_median'] = df_pred[columns_ensemble].apply(np.median, axis=1)\n",
    "\n",
    "df_pred[ ['ensemble_mean', 'ensemble_median', 'count'] ].head()\n",
    "\n",
    "for target_column in ['ensemble_mean', 'ensemble_median']:\n",
    "    print target_column, quality_model(y_test_count, df_pred[target_column].values )"
   ]
  },
  {
   "cell_type": "markdown",
   "metadata": {},
   "source": [
    "## Looks nice :)\n",
    "We improved quality a model, but this not all what we can achieve. Next step is art step... figure out feature"
   ]
  },
  {
   "cell_type": "code",
   "execution_count": null,
   "metadata": {
    "collapsed": true
   },
   "outputs": [],
   "source": []
  }
 ],
 "metadata": {
  "kernelspec": {
   "display_name": "Python 2",
   "language": "python",
   "name": "python2"
  },
  "language_info": {
   "codemirror_mode": {
    "name": "ipython",
    "version": 2
   },
   "file_extension": ".py",
   "mimetype": "text/x-python",
   "name": "python",
   "nbconvert_exporter": "python",
   "pygments_lexer": "ipython2",
   "version": "2.7.10"
  }
 },
 "nbformat": 4,
 "nbformat_minor": 0
}
